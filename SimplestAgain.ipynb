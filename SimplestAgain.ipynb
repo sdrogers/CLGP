{
 "cells": [
  {
   "cell_type": "markdown",
   "metadata": {},
   "source": [
    "# The simplest (maybe) closed-loop example for metabolomics"
   ]
  },
  {
   "cell_type": "code",
   "execution_count": 257,
   "metadata": {},
   "outputs": [],
   "source": [
    "import numpy as np\n",
    "import copy"
   ]
  },
  {
   "cell_type": "markdown",
   "metadata": {},
   "source": [
    "The problem setup (note from Simon: I appreciate that this is long-winded, but I think the description can be shortened)\n",
    "\n",
    "- We've measured a set of objects, each of which is characterised by time. For a subet of these objects we have also measured some additional information by which they can be uniquely identified (fragments in metabolomics jargon)\n",
    "- We then measure a second set of objects, some of which will match those in set 1 (some in set 1 will be in set 2, some in set 2 will be in set 1, some will be unique to one set or the other)\n",
    "- In set 2 there is a time drift with respect to set 1.\n",
    "- Our goal (at least initially) is to infer this drift\n",
    "- We can learn the drift using points that we can match (based upon the additional information described above). But there is a cost associated with these additional measurements and we can make only a limited number of them\n",
    "- When we make such a measurement it will tell us that either:\n",
    "    - the point we measure is the same as one of the ones in set 1 for which the additional information is available, or...\n",
    "    - it is not the same as any for which additional information is available\n",
    "    \n",
    "Note: in reality, the problem is more constrained as we have to make the additional measurements in time order..."
   ]
  },
  {
   "cell_type": "code",
   "execution_count": null,
   "metadata": {},
   "outputs": [],
   "source": []
  },
  {
   "cell_type": "markdown",
   "metadata": {},
   "source": [
    "Initial cell to sample some _true_ times for `N` examples.\n",
    "\n",
    "We then choose `n_data` examples for each of sets 1 and 2"
   ]
  },
  {
   "cell_type": "code",
   "execution_count": 258,
   "metadata": {},
   "outputs": [
    {
     "name": "stdout",
     "output_type": "stream",
     "text": [
      "[0.0059292  0.04830485 0.06381327 0.10907515 0.11892275 0.13234446\n",
      " 0.15741962 0.17692671 0.18487758 0.23824981 0.32298318 0.36494721\n",
      " 0.36970037 0.46171805 0.51219373 0.54798402 0.60112424 0.63555845\n",
      " 0.7285889  0.75920158 0.77040546 0.79786593 0.81582531 0.82522375\n",
      " 0.87289357 0.88469241 0.88741693 0.89780904 0.91492281 0.96649594]\n",
      "Overlap size = 20\n"
     ]
    }
   ],
   "source": [
    "N = 30\n",
    "true_vals = np.random.rand(N)\n",
    "true_vals.sort()\n",
    "print(true_vals)\n",
    "n_data = 25 # how many to pick in each dataset\n",
    "data_1 = []\n",
    "data_1_idx = np.random.permutation(range(N))[:n_data]\n",
    "data_2_idx = np.random.permutation(range(N))[:n_data]\n",
    "data_1_idx.sort()\n",
    "data_2_idx.sort()\n",
    "\n",
    "opt = len(set(data_1_idx).intersection(set(data_2_idx)))\n",
    "print(\"Overlap size = {}\".format(opt))"
   ]
  },
  {
   "cell_type": "markdown",
   "metadata": {},
   "source": [
    "We now decide which of the data in set 1 has the additioonal information available. Here it is randomly assigned with probability `frag_prob_1`."
   ]
  },
  {
   "cell_type": "code",
   "execution_count": 259,
   "metadata": {},
   "outputs": [],
   "source": [
    "frag_prob_1 = 0.7\n",
    "frag_1 = []\n",
    "for i in range(n_data):\n",
    "    if np.random.rand() <= frag_prob_1:\n",
    "        frag_1.append(1)\n",
    "    else:\n",
    "        frag_1.append(0)\n",
    "    "
   ]
  },
  {
   "cell_type": "markdown",
   "metadata": {},
   "source": [
    "Next step is sampling a true offset function for set 2 from a GP"
   ]
  },
  {
   "cell_type": "code",
   "execution_count": 260,
   "metadata": {},
   "outputs": [
    {
     "data": {
      "text/plain": [
       "Text(0, 0.5, 'time offset')"
      ]
     },
     "execution_count": 260,
     "metadata": {},
     "output_type": "execute_result"
    },
    {
     "data": {
      "image/png": "[encoded data removed]",
      "text/plain": [
       "<Figure size 432x288 with 1 Axes>"
      ]
     },
     "metadata": {
      "needs_background": "light"
     },
     "output_type": "display_data"
    },
    {
     "data": {
      "image/png": "[encoded data removed]",
      "text/plain": [
       "<Figure size 432x288 with 1 Axes>"
      ]
     },
     "metadata": {
      "needs_background": "light"
     },
     "output_type": "display_data"
    }
   ],
   "source": [
    "# sample an offset function\n",
    "alpha = 0.01\n",
    "gam = 1.\n",
    "K = np.zeros((N,N),np.double)\n",
    "for n in range(N):\n",
    "    for m in range(N):\n",
    "        K[n,m] = alpha*np.exp(-(1./gam)*(true_vals[n]-true_vals[m])**2)\n",
    "        \n",
    "import pylab as plt\n",
    "%matplotlib inline\n",
    "plt.imshow(K,aspect='auto')\n",
    "true_offset_function = np.random.multivariate_normal(np.zeros(N),K)\n",
    "plt.figure()\n",
    "plt.plot(true_vals,true_offset_function)\n",
    "plt.xlabel('time')\n",
    "plt.ylabel('time offset')"
   ]
  },
  {
   "cell_type": "markdown",
   "metadata": {},
   "source": [
    "Now we make the observed data. In the case of set 1 this is identical to the originals. For set 2, it is a noisy realisation of the original plus the offset function"
   ]
  },
  {
   "cell_type": "code",
   "execution_count": 261,
   "metadata": {},
   "outputs": [],
   "source": [
    "noise_ss = 0.00000\n",
    "observed_1 = true_vals[data_1_idx]\n",
    "observed_2 = true_vals[data_2_idx] + true_offset_function[data_2_idx] + np.random.normal(n_data)*np.sqrt(noise_ss)\n",
    "main_K = np.zeros((n_data,n_data),np.double)\n",
    "for n in range(n_data):\n",
    "    for m in range(n_data):\n",
    "        main_K[n,m] = alpha*np.exp((-1./gam)*(observed_2[n] - observed_2[m])**2)"
   ]
  },
  {
   "cell_type": "code",
   "execution_count": null,
   "metadata": {},
   "outputs": [],
   "source": []
  },
  {
   "cell_type": "code",
   "execution_count": null,
   "metadata": {},
   "outputs": [],
   "source": []
  },
  {
   "cell_type": "markdown",
   "metadata": {},
   "source": [
    "A method to find the closest matching point in set 2 to the points in set 1.\n",
    "\n",
    "Any confirmed match (stored in `confirmed_matches`) will be added to the match set and the objects invovled cannot be added to anything else"
   ]
  },
  {
   "cell_type": "code",
   "execution_count": 272,
   "metadata": {},
   "outputs": [],
   "source": [
    "def closest_match(peaks1,peaks2,confirmed_matches,queried_points,frag_1,max_rt = 0.1,predictions = None):\n",
    "    matches = copy.deepcopy(confirmed_matches)\n",
    "    if len(matches) > 0:\n",
    "        used1,used2 = zip(*matches)\n",
    "        used1 = set(used1)\n",
    "        used2 = set(used2)\n",
    "    else:\n",
    "        used1 = set()\n",
    "        used2 = set()\n",
    "    for i,r in enumerate(peaks2):\n",
    "        \n",
    "        r2 = r\n",
    "        if predictions is not None:\n",
    "            r2 += predictions[i]\n",
    "        \n",
    "        if i in used2: # if this one is in one of the confirmed matches, we don't need to deal with it\n",
    "            continue \n",
    "        else:\n",
    "            # compute all distances\n",
    "            pi = list(zip(peaks1,range(len(peaks1)),[abs(p-r2) for p in peaks1]))\n",
    "            # keep only those below the max time shift for matching\n",
    "            pi = list(filter(lambda x: x[2] <= max_rt,pi))\n",
    "            # find the closest that is not already used .... and\n",
    "            # if the set 2 point (i) has been queried before then if we get to here it wasn't matched\n",
    "            # so it cannot be matched against something for which we have the additional info\n",
    "            closest_dist = 1e6\n",
    "            best_pos = -1\n",
    "            for idx,_ in enumerate(pi):\n",
    "                if pi[idx][1] not in used1 and pi[idx][2] <= closest_dist and not (i in queried_points and frag_1[idx] == 1):\n",
    "                    best_pos = idx\n",
    "                    closest_dist = pi[idx][2]\n",
    "            if best_pos > -1:\n",
    "                matches.append((pi[best_pos][1],i))\n",
    "                used1.add(pi[best_pos][1])\n",
    "                used2.add(i)\n",
    "                assert pi[best_pos][2] <= max_rt\n",
    "    return matches\n",
    "            \n",
    "\n",
    "            "
   ]
  },
  {
   "cell_type": "markdown",
   "metadata": {},
   "source": [
    "Method to visualise the status of the world"
   ]
  },
  {
   "cell_type": "code",
   "execution_count": 273,
   "metadata": {},
   "outputs": [],
   "source": [
    "def plot_match(peaks1,peaks2,frag_1,matches,confirmed_matches,relative=True,predictions = None,truth=None):\n",
    "    plt.figure()\n",
    "    if not relative:\n",
    "        plt.plot(peaks2,np.zeros_like(peaks2),'ro')\n",
    "        plt.plot(np.zeros_like(peaks1),peaks1,'ro')\n",
    "        p1 = []\n",
    "        for i,f in enumerate(frag_1):\n",
    "            if f == 1:\n",
    "                p1.append(peaks1[i])\n",
    "        plt.plot(np.zeros_like(p1),p1,'ko')\n",
    "\n",
    "    for a,(i,j) in enumerate(matches):\n",
    "        col = 'ro' # default\n",
    "        if truth is not None:\n",
    "            if truth[a] == 1:\n",
    "                col = 'bo' # match is correct, so make it blue\n",
    "        if (i,j) in confirmed_matches: # if this is a confirmed one\n",
    "            if not relative:\n",
    "                plt.plot(peaks2[j],peaks1[i],col,markersize=15)\n",
    "            else: # plotting difference not absolute time\n",
    "                plt.plot(peaks2[j],peaks1[i]-peaks2[j],col,markersize=15)\n",
    "                if predictions is not None:\n",
    "                    plt.plot(peaks2[j],predictions[j],'ko',markersize=3) # plot a point where the current model prediction is\n",
    "                    plt.plot([peaks2[j],peaks2[j]],[predictions[j],peaks1[i]-peaks2[j]],'k',color=[0.8,0.8,0.8])\n",
    "        else:\n",
    "            if not relative:\n",
    "                plt.plot(peaks2[j],peaks1[i],col)\n",
    "            else:\n",
    "                plt.plot(peaks2[j],peaks1[i]-peaks2[j],col)\n",
    "                if not predictions is None:\n",
    "                    plt.plot(peaks2[j],predictions[j],'ko',markersize=3)\n",
    "                    plt.plot([peaks2[j],peaks2[j]],[predictions[j],peaks1[i]-peaks2[j]],'k',color=[0.8,0.8,0.8])\n",
    "\n",
    "\n",
    "\n",
    "\n",
    "        if not relative:\n",
    "            plt.plot([peaks2[j],peaks2[j]],[0,peaks1[i]],'k',color=[0.8,0.8,0.8])\n",
    "            plt.plot([0,peaks2[j]],[peaks1[i],peaks1[i]],'k',color=[0.8,0.8,0.8])\n",
    "    plt.xlim([0,1])\n",
    "    if not relative:\n",
    "        plt.ylim([0,1])"
   ]
  },
  {
   "cell_type": "markdown",
   "metadata": {},
   "source": [
    "Method to assess whether or not matches are correct (helpful for plotting)"
   ]
  },
  {
   "cell_type": "code",
   "execution_count": 274,
   "metadata": {},
   "outputs": [],
   "source": [
    "def assess_matches(matches,idx_1,idx_2):\n",
    "    truth = []\n",
    "    for i,j in matches:\n",
    "        if idx_1[i] == idx_2[j]:\n",
    "            truth.append(1)\n",
    "        else:\n",
    "            truth.append(0)\n",
    "    return truth"
   ]
  },
  {
   "cell_type": "markdown",
   "metadata": {},
   "source": [
    "Querying method. We are querying the point stored at index `pos` in set 2. If it matches something in set 1 the pair is returned. If not, None is returned"
   ]
  },
  {
   "cell_type": "code",
   "execution_count": 275,
   "metadata": {},
   "outputs": [],
   "source": [
    "def query(data_1_idx,data_2_idx,pos,frag_1):\n",
    "    idx = data_2_idx[pos]\n",
    "    for i,ii in enumerate(data_1_idx):\n",
    "        if ii == idx and frag_1[i] == 1:\n",
    "            print(\"HIT\")\n",
    "            return (i,pos)\n",
    "    return None"
   ]
  },
  {
   "cell_type": "markdown",
   "metadata": {},
   "source": [
    "Method to fit the GP and compute the predicted offset function that can be used to correct the points in set 2"
   ]
  },
  {
   "cell_type": "code",
   "execution_count": 276,
   "metadata": {},
   "outputs": [],
   "source": [
    "def fit_and_predict(peaks1,peaks2,confirmed_matches,main_K):\n",
    "    d2_idx = []\n",
    "    d1_idx = []\n",
    "    for i,j in confirmed_matches:\n",
    "        d2_idx.append(j)\n",
    "        d1_idx.append(i)\n",
    "    sub_K = main_K[d2_idx,:][:,d2_idx] + np.eye(len(d2_idx))*1e-5\n",
    "    t = (peaks1[d1_idx] - peaks2[d2_idx])[:,None]\n",
    "    pred_mu = np.dot(np.dot(main_K[:,d2_idx],np.linalg.inv(sub_K)),t)\n",
    "    return pred_mu"
   ]
  },
  {
   "cell_type": "code",
   "execution_count": null,
   "metadata": {},
   "outputs": [],
   "source": []
  },
  {
   "cell_type": "markdown",
   "metadata": {},
   "source": [
    "## MAIN LOOP"
   ]
  },
  {
   "cell_type": "markdown",
   "metadata": {},
   "source": [
    "Following is the main loop\n",
    "\n",
    "Plots should be interpreted as:\n",
    "\n",
    "- xaxis is time, yaxis is time shift\n",
    "- red points are incorrectly matched at the moment (based on closest match)\n",
    "- Blue points are correcrtly matched\n",
    "- Large blue are *confirmed* matches\n",
    "\n",
    "Note that because our initial function is mapping from the true time to set 2 and we infer a function from set 2 to the true time, it will be the reverse of the function shown above"
   ]
  },
  {
   "cell_type": "code",
   "execution_count": 277,
   "metadata": {},
   "outputs": [
    {
     "name": "stdout",
     "output_type": "stream",
     "text": [
      "HIT\n",
      "HIT\n",
      "HIT\n",
      "HIT\n"
     ]
    },
    {
     "data": {
      "image/png": "[encoded data removed]",
      "text/plain": [
       "<Figure size 432x288 with 1 Axes>"
      ]
     },
     "metadata": {
      "needs_background": "light"
     },
     "output_type": "display_data"
    },
    {
     "data": {
      "image/png": "[encoded data removed]",
      "text/plain": [
       "<Figure size 432x288 with 1 Axes>"
      ]
     },
     "metadata": {
      "needs_background": "light"
     },
     "output_type": "display_data"
    },
    {
     "data": {
      "image/png": "[encoded data removed]",
      "text/plain": [
       "<Figure size 432x288 with 1 Axes>"
      ]
     },
     "metadata": {
      "needs_background": "light"
     },
     "output_type": "display_data"
    },
    {
     "data": {
      "image/png": "[encoded data removed]",
      "text/plain": [
       "<Figure size 432x288 with 1 Axes>"
      ]
     },
     "metadata": {
      "needs_background": "light"
     },
     "output_type": "display_data"
    },
    {
     "data": {
      "image/png": "[encoded data removed]",
      "text/plain": [
       "<Figure size 432x288 with 1 Axes>"
      ]
     },
     "metadata": {
      "needs_background": "light"
     },
     "output_type": "display_data"
    },
    {
     "data": {
      "image/png": "[encoded data removed]",
      "text/plain": [
       "<Figure size 432x288 with 1 Axes>"
      ]
     },
     "metadata": {
      "needs_background": "light"
     },
     "output_type": "display_data"
    }
   ],
   "source": [
    "confirmed_matches = [] # these are the points that will be used for training\n",
    "queried_points = [] # store which points we have queried\n",
    "\n",
    "import warnings\n",
    "with warnings.catch_warnings():\n",
    "    warnings.simplefilter(\"ignore\")\n",
    "    n_its = 5 # do his many iterations\n",
    "    matches = closest_match(observed_1,observed_2,confirmed_matches,queried_points,frag_1,max_rt = 0.02,predictions = None)\n",
    "    truth = assess_matches(matches,data_1_idx,data_2_idx)\n",
    "    plot_match(observed_1,observed_2,frag_1,matches,confirmed_matches,relative=True,predictions = None,truth=truth)\n",
    "\n",
    "\n",
    "    for it in range(n_its):    \n",
    "        # pick a point to query randomly -- here is where we'd do some smart choice. Pick something we didn't pick before\n",
    "        unqueried = set(range(n_data)) - set(queried_points)\n",
    "        new_match = query(data_1_idx,data_2_idx,np.random.choice(list(unqueried)),frag_1)\n",
    "        if new_match is not None and new_match not in confirmed_matches:\n",
    "            confirmed_matches.append(new_match)\n",
    "        pred_mu = fit_and_predict(observed_1,observed_2,confirmed_matches,main_K)\n",
    "        matches = closest_match(observed_1,observed_2,confirmed_matches,queried_points,frag_1,max_rt = 0.02,predictions = pred_mu)\n",
    "        truth = assess_matches(matches,data_1_idx,data_2_idx)\n",
    "        plot_match(observed_1,observed_2,frag_1,matches,confirmed_matches,relative=True,predictions = pred_mu,truth=truth)"
   ]
  },
  {
   "cell_type": "code",
   "execution_count": null,
   "metadata": {},
   "outputs": [],
   "source": []
  },
  {
   "cell_type": "code",
   "execution_count": null,
   "metadata": {},
   "outputs": [],
   "source": []
  }
 ],
 "metadata": {
  "kernelspec": {
   "display_name": "Python 3",
   "language": "python",
   "name": "python3"
  },
  "language_info": {
   "codemirror_mode": {
    "name": "ipython",
    "version": 3
   },
   "file_extension": ".py",
   "mimetype": "text/x-python",
   "name": "python",
   "nbconvert_exporter": "python",
   "pygments_lexer": "ipython3",
   "version": "3.7.5"
  }
 },
 "nbformat": 4,
 "nbformat_minor": 4
}
